{
  "nbformat": 4,
  "nbformat_minor": 0,
  "metadata": {
    "colab": {
      "provenance": [],
      "authorship_tag": "ABX9TyN65v2VKM1f43AyRYD7LRpa",
      "include_colab_link": true
    },
    "kernelspec": {
      "name": "python3",
      "display_name": "Python 3"
    },
    "language_info": {
      "name": "python"
    }
  },
  "cells": [
    {
      "cell_type": "markdown",
      "metadata": {
        "id": "view-in-github",
        "colab_type": "text"
      },
      "source": [
        "<a href=\"https://colab.research.google.com/github/imnavdeep06/pdf-splitter/blob/main/pdf_splitter.ipynb\" target=\"_parent\"><img src=\"https://colab.research.google.com/assets/colab-badge.svg\" alt=\"Open In Colab\"/></a>"
      ]
    },
    {
      "cell_type": "code",
      "source": [
        "pip install PyPDF2\n"
      ],
      "metadata": {
        "colab": {
          "base_uri": "https://localhost:8080/"
        },
        "id": "B3Ui1_vq302p",
        "outputId": "5541432c-8e82-44e9-f751-46b22ca7c84f"
      },
      "execution_count": 5,
      "outputs": [
        {
          "output_type": "stream",
          "name": "stdout",
          "text": [
            "Collecting PyPDF2\n",
            "  Downloading pypdf2-3.0.1-py3-none-any.whl.metadata (6.8 kB)\n",
            "Downloading pypdf2-3.0.1-py3-none-any.whl (232 kB)\n",
            "\u001b[?25l   \u001b[90m━━━━━━━━━━━━━━━━━━━━━━━━━━━━━━━━━━━━━━━━\u001b[0m \u001b[32m0.0/232.6 kB\u001b[0m \u001b[31m?\u001b[0m eta \u001b[36m-:--:--\u001b[0m\r\u001b[2K   \u001b[91m━━━━━━━━━━━━━━━━━━━━━━━━━━━━━━━━━━━━━━\u001b[0m\u001b[91m╸\u001b[0m\u001b[90m━\u001b[0m \u001b[32m225.3/232.6 kB\u001b[0m \u001b[31m10.6 MB/s\u001b[0m eta \u001b[36m0:00:01\u001b[0m\r\u001b[2K   \u001b[90m━━━━━━━━━━━━━━━━━━━━━━━━━━━━━━━━━━━━━━━━\u001b[0m \u001b[32m232.6/232.6 kB\u001b[0m \u001b[31m6.6 MB/s\u001b[0m eta \u001b[36m0:00:00\u001b[0m\n",
            "\u001b[?25hInstalling collected packages: PyPDF2\n",
            "Successfully installed PyPDF2-3.0.1\n"
          ]
        }
      ]
    },
    {
      "cell_type": "code",
      "execution_count": 9,
      "metadata": {
        "colab": {
          "base_uri": "https://localhost:8080/"
        },
        "id": "d3qxisDl20I0",
        "outputId": "4579fb1e-20bc-4691-9c7c-8f88d9fd1bce"
      },
      "outputs": [
        {
          "output_type": "stream",
          "name": "stdout",
          "text": [
            "Enter the path of the PDF file: /content/smaple.pdf\n",
            "The PDF has 8 pages.\n",
            "Split [a]ll pages or [c]ustom range? (a/c): a\n",
            "Saved: page_1.pdf\n",
            "Saved: page_2.pdf\n",
            "Saved: page_3.pdf\n",
            "Saved: page_4.pdf\n",
            "Saved: page_5.pdf\n",
            "Saved: page_6.pdf\n",
            "Saved: page_7.pdf\n",
            "Saved: page_8.pdf\n"
          ]
        }
      ],
      "source": [
        "import PyPDF2\n",
        "\n",
        "# Get the input PDF file\n",
        "input_file = input(\"Enter the path of the PDF file: \")\n",
        "\n",
        "try:\n",
        "    # Open the PDF\n",
        "    with open(input_file, 'rb') as pdf_file:\n",
        "        reader = PyPDF2.PdfReader(pdf_file)\n",
        "        total_pages = len(reader.pages)\n",
        "        print(f\"The PDF has {total_pages} pages.\")\n",
        "\n",
        "        # Ask user for split type\n",
        "        choice = input(\"Split [a]ll pages or [c]ustom range? (a/c): \").lower()\n",
        "\n",
        "        if choice == 'a':\n",
        "            # Split all pages into separate files\n",
        "            for i in range(total_pages):\n",
        "                writer = PyPDF2.PdfWriter()\n",
        "                writer.add_page(reader.pages[i])\n",
        "                output_filename = f'page_{i + 1}.pdf'\n",
        "                with open(output_filename, 'wb') as output_file:\n",
        "                    writer.write(output_file)\n",
        "                print(f\"Saved: {output_filename}\")\n",
        "\n",
        "        elif choice == 'c':\n",
        "            start = int(input(f\"Enter start page (1-{total_pages}): \")) - 1\n",
        "            end = int(input(f\"Enter end page (1-{total_pages}): \"))\n",
        "            writer = PyPDF2.PdfWriter()\n",
        "\n",
        "            for i in range(start, end):\n",
        "                writer.add_page(reader.pages[i])\n",
        "            output_filename = f'split_{start + 1}_to_{end}.pdf'\n",
        "            with open(output_filename, 'wb') as output_file:\n",
        "                writer.write(output_file)\n",
        "            print(f\"Saved: {output_filename}\")\n",
        "\n",
        "        else:\n",
        "            print(\"Invalid option selected.\")\n",
        "\n",
        "except FileNotFoundError:\n",
        "    print(\"File not found. Please check the file path.\")\n",
        "except Exception as e:\n",
        "    print(f\"An error occurred: {e}\")\n"
      ]
    }
  ]
}